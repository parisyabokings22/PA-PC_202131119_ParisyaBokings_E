{
 "cells": [
  {
   "cell_type": "code",
   "execution_count": 1,
   "id": "899d687f",
   "metadata": {},
   "outputs": [],
   "source": [
    "import cv2\n",
    "import numpy as np"
   ]
  },
  {
   "cell_type": "markdown",
   "id": "aa1ce3ee",
   "metadata": {},
   "source": [
    "# Fungsi untuk mendeteksi marka jalan"
   ]
  },
  {
   "cell_type": "code",
   "execution_count": 2,
   "id": "d5c3c879",
   "metadata": {},
   "outputs": [],
   "source": [
    "def detect_lane_markings(image):\n",
    "    # Konversi gambar ke ruang warna keabuan\n",
    "    gray = cv2.cvtColor(image, cv2.COLOR_BGR2GRAY)\n",
    "    \n",
    "    # Reduksi noise menggunakan metode Gaussian blur\n",
    "    blurred = cv2.GaussianBlur(gray, (5, 5), 0)\n",
    "    \n",
    "    # Deteksi tepi menggunakan metode Canny edge detection\n",
    "    edges = cv2.Canny(blurred, 50, 150)\n",
    "    \n",
    "    # Threshold untuk mencari garis menggunakan metode HoughLinesP\n",
    "    lines = cv2.HoughLinesP(edges, 1, np.pi/180, threshold=100, minLineLength=100, maxLineGap=50)\n",
    "    \n",
    "    # Menggambar garis deteksi pada gambar asli\n",
    "    for line in lines:\n",
    "        x1, y1, x2, y2 = line[0]\n",
    "        cv2.line(image, (x1, y1), (x2, y2), (0, 0, 255), 3)\n",
    "    \n",
    "    return image"
   ]
  },
  {
   "cell_type": "markdown",
   "id": "5b916fd7",
   "metadata": {},
   "source": [
    "# Baca gambar"
   ]
  },
  {
   "cell_type": "code",
   "execution_count": 3,
   "id": "3da508f3",
   "metadata": {},
   "outputs": [],
   "source": [
    "image = cv2.imread('jalanan.jpg')"
   ]
  },
  {
   "cell_type": "markdown",
   "id": "dbd000a3",
   "metadata": {},
   "source": [
    "# Deteksi marka jalan"
   ]
  },
  {
   "cell_type": "code",
   "execution_count": 4,
   "id": "dca5cccc",
   "metadata": {},
   "outputs": [],
   "source": [
    "result = detect_lane_markings(image)"
   ]
  },
  {
   "cell_type": "markdown",
   "id": "00810ec9",
   "metadata": {},
   "source": [
    "# Tampilkan hasil"
   ]
  },
  {
   "cell_type": "code",
   "execution_count": null,
   "id": "51baaacc",
   "metadata": {},
   "outputs": [],
   "source": [
    "cv2.imshow('hasil jalan', result)\n",
    "cv2.waitKey(0)\n",
    "cv2.destroyAllWindows()"
   ]
  },
  {
   "cell_type": "code",
   "execution_count": null,
   "id": "4a8e1a22",
   "metadata": {},
   "outputs": [],
   "source": []
  },
  {
   "cell_type": "code",
   "execution_count": null,
   "id": "def9e056",
   "metadata": {},
   "outputs": [],
   "source": []
  }
 ],
 "metadata": {
  "kernelspec": {
   "display_name": "Python 3 (ipykernel)",
   "language": "python",
   "name": "python3"
  },
  "language_info": {
   "codemirror_mode": {
    "name": "ipython",
    "version": 3
   },
   "file_extension": ".py",
   "mimetype": "text/x-python",
   "name": "python",
   "nbconvert_exporter": "python",
   "pygments_lexer": "ipython3",
   "version": "3.10.9"
  }
 },
 "nbformat": 4,
 "nbformat_minor": 5
}
